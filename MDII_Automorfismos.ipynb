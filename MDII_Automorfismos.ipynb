{
  "nbformat": 4,
  "nbformat_minor": 0,
  "metadata": {
    "colab": {
      "name": "MDII_Automorfismos.ipynb",
      "provenance": [],
      "authorship_tag": "ABX9TyMaJlWDbOa5GR8Bg13TtWoD",
      "include_colab_link": true
    },
    "kernelspec": {
      "name": "python3",
      "display_name": "Python 3"
    }
  },
  "cells": [
    {
      "cell_type": "markdown",
      "metadata": {
        "id": "view-in-github",
        "colab_type": "text"
      },
      "source": [
        "<a href=\"https://colab.research.google.com/github/angegonzalez/DiscreteMath/blob/master/MDII_Automorfismos.ipynb\" target=\"_parent\"><img src=\"https://colab.research.google.com/assets/colab-badge.svg\" alt=\"Open In Colab\"/></a>"
      ]
    },
    {
      "cell_type": "markdown",
      "metadata": {
        "id": "zbv_iwsUZZgn",
        "colab_type": "text"
      },
      "source": [
        "# **Matemáticas Discretas II**\n",
        "Por: Angel Mateo Gonzalez Bejarano\n",
        "\n",
        "Construya un algoritmo que permita conocer el grupo de automorfismos de un grafo.\n"
      ]
    },
    {
      "cell_type": "markdown",
      "metadata": {
        "id": "-WLsVIpDS6y0",
        "colab_type": "text"
      },
      "source": [
        "### Un breve recuento"
      ]
    },
    {
      "cell_type": "markdown",
      "metadata": {
        "id": "CZuUwvjWTDh3",
        "colab_type": "text"
      },
      "source": [
        "Para construir un algoritmo que permita conocer el grupo de automorfismos de un determinado grafo, debemos pensar primero en la noción de isomorfismo.\n",
        "<br/>\n",
        "Esta noción básicamente trata de definir cuando dos grafos $G$ y $H$ son iguales en su estructura, luego con el grupo de automorfismo lo que queremos saber es ese conjunto en el cual permutamos algunos de sus vertices, es decir, los cambiamos y volvemos a obtener nuevamente un grafo de igual estructura. \n",
        "<br>\n",
        "Cabe aclarar aqui que este algoritmo trata casos sencillos, ya que como sabemos, no se ha resuelto el problema de isomorfismo de grafos en tiempo polinomial ya que la complejidad de este algoritmo en general, depende de la cantidad de vertices que tenga ( lo que muy superficialmente llevaria tiempo de orden factorial).\n",
        "<br/>\n",
        "En esta medida podemos asimilar este algoritmo con el de fuerza bruta, llevandolo a una complejidad $O(n^2 \\cdot n!)$ y esto como primer acercamiento es bastante ineficiente. \n",
        "<br>\n",
        "Actualmente existen soluciones que aproximan la resolución de este algoritmo en tiempos menores (como $O(n^{ log(n)})$), pero requieren de otros acercamientos que en esta ocasión no trataremos. \n",
        "<br>\n",
        "Finalmente, aunque existen varios algoritmos (como el de McKay) que son mas eficientes, pero que a dia de hoy no lo son tanto, ya que son superiores al tiempo polinomial. \n",
        "<br/>\n",
        "<br/>\n",
        "**Referencias:** \n",
        "1.   [Graph Isomorphism Algorithms](https://pdfs.semanticscholar.org/d3a3/c00dea61d6828b8531c919b0195977a7f53b.pdf?_ga=2.239277507.1571200862.1590769717-173769026.1590769717)\n",
        "2.   [Algorithms for computing the Automorphism Group of a Graph](https://pdfs.semanticscholar.org/b082/61a0db098a3f33b96e57e28d8340c1444f65.pdf)"
      ]
    },
    {
      "cell_type": "markdown",
      "metadata": {
        "id": "R6WdQkcgXIK-",
        "colab_type": "text"
      },
      "source": [
        "### Implementacion del **algoritmo**"
      ]
    },
    {
      "cell_type": "code",
      "metadata": {
        "id": "AWz9V9K5XhS9",
        "colab_type": "code",
        "colab": {}
      },
      "source": [
        "# Inicialización de librerías necesarias\n",
        "from itertools import permutations\n",
        "import numpy as np"
      ],
      "execution_count": 0,
      "outputs": []
    },
    {
      "cell_type": "code",
      "metadata": {
        "id": "SJY8tmYXBxC_",
        "colab_type": "code",
        "colab": {}
      },
      "source": [
        "# Funcion que recibe la lista de permutaciones y obtiene las que generan\n",
        "# grafos isomorfos. \n",
        "\n",
        "def get_isomorphism(graph, permutationsList, shape):\n",
        "  isomorphic_permutations = [];\n",
        "  for permutation in permutationsList:\n",
        "    if(is_an_isomorphism(graph, permutation, shape)):\n",
        "      isomorphic_permutations.append(np.array(permutation))\n",
        "  return isomorphic_permutations"
      ],
      "execution_count": 0,
      "outputs": []
    },
    {
      "cell_type": "code",
      "metadata": {
        "id": "VnF5Bcl5Bl2Z",
        "colab_type": "code",
        "colab": {}
      },
      "source": [
        "def is_an_isomorphism(graph, permutation, shape):\n",
        "  result_matrix = np.zeros(shape= shape, dtype=int)\n",
        "  auxiliar_permutation = [n-1 for n in permutation]\n",
        "\n",
        "  #Obtener los valores de la permutacion en una matriz nueva O(n^{2})\n",
        "  for i in range(0, shape[0]):\n",
        "    for j in range (i, shape[0]):\n",
        "      result_matrix[i][j] = graph[auxiliar_permutation[i]][auxiliar_permutation[j]]\n",
        "      result_matrix[j][i] = graph[auxiliar_permutation[i]][auxiliar_permutation[j]]\n",
        "  #Comparar las matrices\n",
        "  if( (graph == result_matrix).all()): return True\n",
        "  return False"
      ],
      "execution_count": 0,
      "outputs": []
    },
    {
      "cell_type": "code",
      "metadata": {
        "id": "EkqSP2ZveEde",
        "colab_type": "code",
        "colab": {}
      },
      "source": [
        "def get_cycle_notation(permutation): \n",
        "  permutation_cycle= np.append([ [n-1 for n in permutation] ],[np.full(len(permutation), False)], axis=0)\n",
        "  result= []\n",
        "  i=0\n",
        "  partial = []\n",
        "  while(True):\n",
        "    if(i ==  len(permutation) ): break\n",
        "    if(permutation_cycle[0][i] != i and not permutation_cycle[1][i]):\n",
        "      permutation_cycle[1][i] = True\n",
        "      partial.append(i+1)\n",
        "      i = permutation_cycle[0][i]\n",
        "    else: \n",
        "      if(len(partial) !=0 ): result.append(partial)\n",
        "      partial= []\n",
        "      i+=1\n",
        "  return result"
      ],
      "execution_count": 0,
      "outputs": []
    },
    {
      "cell_type": "markdown",
      "metadata": {
        "id": "jcupnhDdZJOi",
        "colab_type": "text"
      },
      "source": [
        "### Ejemplos"
      ]
    },
    {
      "cell_type": "markdown",
      "metadata": {
        "id": "tLeznjzofhaY",
        "colab_type": "text"
      },
      "source": [
        "A continuación se muestran algunos ejemplos de grafos para posteriormente hallar su grupo de automorfismos: \n",
        "\n",
        "<img src=\"https://drive.google.com/uc?id=1q6LUAR0PE8etu5z5v2KBZ98HhHaZXO6l\"/>\n",
        "\n",
        "**Grafo A**\n",
        "\n",
        "<img src=\"https://drive.google.com/uc?id=1q74LGUzcg-lpAiqJrHp49bWySczVzbim\"/>\n",
        "\n",
        "**Grafo B**\n",
        "\n",
        "<img src=\"https://drive.google.com/uc?id=1qCF0Lo1h3f_QykeB9uTN65qJ9W6aOrIK\"/>\n",
        "\n",
        "**Grafo C**\n"
      ]
    },
    {
      "cell_type": "code",
      "metadata": {
        "id": "sSFQs5e0_W4h",
        "colab_type": "code",
        "outputId": "b5f42db8-0812-4ab0-cd41-2863ea41a664",
        "colab": {
          "base_uri": "https://localhost:8080/",
          "height": 50
        }
      },
      "source": [
        "#Matriz de adyacencia para el grafo A.\n",
        "graph_a = np.array([[0, 1, 1, 0, 0, 0],\n",
        "                    [1, 0, 1, 0, 0, 0],\n",
        "                    [1, 1, 0, 1, 0, 0],\n",
        "                    [0, 0, 1, 0, 1, 1],\n",
        "                    [0, 0, 0, 1, 0, 1],\n",
        "                    [0, 0, 0, 1, 1, 0],\n",
        "                    ])\n",
        "#Matriz de adyacencia para el grafo B.\n",
        "graph_b = np.array([[0, 1, 1, 0],\n",
        "                    [0, 0, 0, 1],\n",
        "                    [0, 0, 0, 1],\n",
        "                    [0, 1, 1, 0],\n",
        "                    ])\n",
        "\n",
        "#Matriz de adyacencia para el grafo C.\n",
        "graph_c = np.array([[0, 1, 1, 0, 0, 0, 1],\n",
        "                    [1, 0, 0, 1, 0, 0, 1],\n",
        "                    [1, 0, 0, 1, 1, 0, 0],\n",
        "                    [0, 1, 1, 0, 0, 1, 0],\n",
        "                    [0, 0, 1, 0, 0, 1, 0],\n",
        "                    [0, 0, 0, 1, 1, 0, 1],\n",
        "                    [1, 1, 0, 0, 0, 1, 0]])\n",
        "# Cálculo del algoritmo en el peor de los casos : O (n!* n^2})\n",
        "length = graph_a.shape[0]\n",
        "graph_shape = graph_a.shape\n",
        "print('Tamaño de la matriz de adyacencia : ')\n",
        "print(graph_shape)"
      ],
      "execution_count": 5,
      "outputs": [
        {
          "output_type": "stream",
          "text": [
            "Tamaño de la matriz de adyacencia : \n",
            "(6, 6)\n"
          ],
          "name": "stdout"
        }
      ]
    },
    {
      "cell_type": "code",
      "metadata": {
        "id": "zjfzKGNEAtq0",
        "colab_type": "code",
        "outputId": "314cf6e6-f82b-4dc0-814d-587f06e25e1f",
        "colab": {
          "base_uri": "https://localhost:8080/",
          "height": 134
        }
      },
      "source": [
        "#Generar las permutaciones según la cantidad de vértices\n",
        "permutationsList = np.array( list(permutations(range(1, length+1))))\n",
        "permutationsList"
      ],
      "execution_count": 6,
      "outputs": [
        {
          "output_type": "execute_result",
          "data": {
            "text/plain": [
              "array([[1, 2, 3, 4, 5, 6],\n",
              "       [1, 2, 3, 4, 6, 5],\n",
              "       [1, 2, 3, 5, 4, 6],\n",
              "       ...,\n",
              "       [6, 5, 4, 2, 3, 1],\n",
              "       [6, 5, 4, 3, 1, 2],\n",
              "       [6, 5, 4, 3, 2, 1]])"
            ]
          },
          "metadata": {
            "tags": []
          },
          "execution_count": 6
        }
      ]
    },
    {
      "cell_type": "code",
      "metadata": {
        "id": "E6j3ydJ3ERo5",
        "colab_type": "code",
        "outputId": "5b43d4fe-fc4e-434e-b524-90464b2046fa",
        "colab": {
          "base_uri": "https://localhost:8080/",
          "height": 50
        }
      },
      "source": [
        "automorphism_group_cycle= [[],]\n",
        "automorphism_group = get_isomorphism(graph_a, permutationsList[1:], graph_shape)\n",
        "\n",
        "for permutation in automorphism_group:\n",
        "  automorphism_group_cycle.append(get_cycle_notation(permutation))\n",
        "print('El grupo de automorfismos en notacion cíclica: ')\n",
        "print(automorphism_group_cycle)\n"
      ],
      "execution_count": 7,
      "outputs": [
        {
          "output_type": "stream",
          "text": [
            "El grupo de automorfismos en notacion cíclica: \n",
            "[[], [[5, 6]], [[1, 2]], [[1, 2], [5, 6]], [[1, 5], [2, 6], [3, 4]], [[1, 5, 2, 6], [3, 4]], [[1, 6, 2, 5], [3, 4]], [[1, 6], [2, 5], [3, 4]]]\n"
          ],
          "name": "stdout"
        }
      ]
    },
    {
      "cell_type": "markdown",
      "metadata": {
        "id": "_r6o7I-aczbD",
        "colab_type": "text"
      },
      "source": [
        ""
      ]
    }
  ]
}