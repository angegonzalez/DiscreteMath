{
  "nbformat": 4,
  "nbformat_minor": 0,
  "metadata": {
    "colab": {
      "name": "RSA_MDII.ipynb",
      "provenance": [],
      "collapsed_sections": [
        "sF7lUwOCaDnD"
      ],
      "mount_file_id": "1D7EMHy82oLnu4LNjfcfZ6_mhDDw__ICf",
      "authorship_tag": "ABX9TyOoQ5AhB7cV55Ejel7quSpv",
      "include_colab_link": true
    },
    "kernelspec": {
      "name": "python3",
      "display_name": "Python 3"
    }
  },
  "cells": [
    {
      "cell_type": "markdown",
      "metadata": {
        "id": "view-in-github",
        "colab_type": "text"
      },
      "source": [
        "<a href=\"https://colab.research.google.com/github/angegonzalez/DiscreteMath/blob/master/RSA_MDII.ipynb\" target=\"_parent\"><img src=\"https://colab.research.google.com/assets/colab-badge.svg\" alt=\"Open In Colab\"/></a>"
      ]
    },
    {
      "cell_type": "markdown",
      "metadata": {
        "id": "-hwhCzaux3AP",
        "colab_type": "text"
      },
      "source": [
        "# RSA (Rivest, Shamir y Adleman)"
      ]
    },
    {
      "cell_type": "markdown",
      "metadata": {
        "id": "4FB-Jfb_yUGK",
        "colab_type": "text"
      },
      "source": [
        "Universidad Nacional de Colombia \n",
        "<br/>\n",
        "2020-I | **Matemáticas** **Discretas**\n",
        "<br/>\n",
        "*Por:* Angel Mateo González Bejarano\n"
      ]
    },
    {
      "cell_type": "markdown",
      "metadata": {
        "id": "hfzGd7O-tQTY",
        "colab_type": "text"
      },
      "source": [
        "\n",
        "\n",
        "El **RSA** es un sistema criptográfico de llave pública desarrollado en el año de 1979 por Rivest, Shamir y Adleman en MIT. Es uno de los algoritmos de este tipo más utilizados. En un sistema de criptografía de llave publica cada usuario posee dos llaves, una pública y otra privada. \n",
        "Cuando se quiere enviar un mensaje, el emisor busca la clave pública del receptor, cifra su mensaje con esa clave, y una vez que el mensaje cifrado llega al receptor, este se ocupa de descifrarlo usando su clave privada. La seguridad del algoritmo se basa en la dificultad de resolver el problema de **factorización de números enteros**.\n",
        "\n"
      ]
    },
    {
      "cell_type": "markdown",
      "metadata": {
        "id": "_6bG3IJYyNaF",
        "colab_type": "text"
      },
      "source": [
        "**Preguntas planteadas**\n",
        "\n",
        "1. **Problema.** Se debe especificar cuál es el problema que resuelve RSA, y por qué es necesario introducir un algoritmo de este tipo.\n",
        "\n",
        "El algoritmo RSA es uno de los más utilizados en la actualidad en cuanto a temas de ciberseguridad, ya que permite que en un entorno en el cual exista una comunicacion de dos personas (que en principio se asume es inseguro, es decir, un entorno en el cual sea posible interceptar la comunicacion) esta misma se pueda dar de una forma segura, encriptando el mensaje de modo que si es interceptable este no pueda ser de alguna forma descifrado. \n",
        "<br/>\n",
        "El ejemplo clásico para explicar este algoritmo es el de Alice y Bob, dos personas que se quieren comunicar, pero se quiere que la transmision del mensaje, por ejemplo, de Bob a Alice se haga forma segura y esto quiere decir que solo Alice pueda saber el mensaje que le está enviando Bob.\n",
        "<br/>\n",
        "RSA plantea un sistema de clave publica y privada, con esto, Bob encripta el mensaje usando informacion de la clave pública de Alice y luego ella puede desencriptar el mensaje usando su clave privada.\n",
        "<br/>\n",
        "Más adelante se explicara en detalle el funcionamiento de este algoritmo, pero la idea central es generar cierta seguridad sobre el mensaje, y esta seguridad esta dada por la **factorización de numeros enteros**, ya que este algoritmo trabaja con el producto de dos numeros primos (generalmente dados del orden de $10^{300}$) escogidos de manera aleatoria, y dado un resultado muy grande de este producto es virtualmente imposible conocer la factorización de este.\n",
        "<br/>\n",
        "Actualmente, el poder de computo esta avanzando a grandes pasos y hemos llegado al punto de inventar nuevas computadoras, como las cúanticas, que plantean una mejora significativa en los procesos de computo y operaciones. Con esto, valdría la pena preguntarse si la seguridad en la que se basa este algoritmo, puede llegar a quedar obsoleta en el escenario en el que este tipo de computadoras logren hacer los cálculos de una manera mas rapida y eficiente, es decir, si se puede llegar a resolver el problema de la factorizacion de enteros, este sistema quedaría obsoleto. "
      ]
    },
    {
      "cell_type": "markdown",
      "metadata": {
        "id": "ZgPDNhlL5WLt",
        "colab_type": "text"
      },
      "source": [
        "2. **Desarrollo matemático del algoritmo.** Se deben especificar todos los pasos del algoritmo y se debe explicar de forma detallada cada uno de los pasos. Si el algoritmo hace uso de algunos resultados formales (teoremas) estos deben enunciarse y probarse de ser necesario."
      ]
    },
    {
      "cell_type": "markdown",
      "metadata": {
        "id": "sGZC7xwQ53RA",
        "colab_type": "text"
      },
      "source": [
        "Volvamos a nuestro ejemplo en el que Bob queire enviarle un mensaje a Alice, entonces definimos los siguientes pasos: "
      ]
    },
    {
      "cell_type": "markdown",
      "metadata": {
        "id": "E5rmQBim6dA8",
        "colab_type": "text"
      },
      "source": [
        "#### **Previo al cifrado**\n",
        "1. Alice escoge dos primos $p$ y $q$ (de más de 100 digitos) y calcula: $n=pq$ y $\\phi(n) = (p-1)(q-1) $\n",
        "  <br>\n",
        "  Para este paso, el algoritmo debe seleccionar $p$ y $q$ aleatoriamente, para esto usamos el llamado test de primalidad que se basa en el postulado de Bertrand, el cual dice que: <br>\n",
        "\n",
        "  > Si $n$ es un entero y $n>1$, entonces existirá al menos un numero primo $p$ tal que  $n< p < 2n $\n",
        "  \n",
        "  En el codigo veriamos lo siguiente (esto es usado a partir del ejemplo 2):\n",
        "\n"
      ]
    },
    {
      "cell_type": "code",
      "metadata": {
        "id": "HSRd5D1dxOb-",
        "colab_type": "code",
        "outputId": "49ef16ee-fca3-4c13-c40c-121713b3b893",
        "colab": {
          "base_uri": "https://localhost:8080/",
          "height": 34
        }
      },
      "source": [
        "import random \n",
        "import math\n",
        "\n",
        "def is_prime(x): #Verifica si un numero es primo o no\n",
        "    if (x<=1):\n",
        "        return False\n",
        "    for i in range(2, math.ceil(math.sqrt(x))+1):\n",
        "        if(x % i==0 and i!= x):\n",
        "            return False\n",
        "    return True\n",
        "def get_prime(x): #Test de primalidad (Genera primos aleatorios)\n",
        "  p = random.randint(x,2*x)\n",
        "  while( not is_prime(p) ):\n",
        "    p+=1\n",
        "    if(p == 2*x):\n",
        "      p = n \n",
        "  return p\n",
        "\n",
        "p= get_prime(1000000000)\n",
        "q= get_prime(1073200000)\n",
        "print('Ejemplo de dos numeros primos aleatorios de 10 cifras: {}, {}'.format(str(p),str(q)))"
      ],
      "execution_count": 0,
      "outputs": [
        {
          "output_type": "stream",
          "text": [
            "Ejemplo de dos numeros primos aleatorios de 10 cifras: 1509069761, 1080855059\n"
          ],
          "name": "stdout"
        }
      ]
    },
    {
      "cell_type": "markdown",
      "metadata": {
        "id": "hGwXvzaYATuT",
        "colab_type": "text"
      },
      "source": [
        "\n",
        "> Para el calculo de $\\phi(n)$ tomamos en cuenta dos propiedades de la funcion: \n",
        "\n",
        "> 1. Si $n$ y $m$ son primos entre sí, entonces $\\phi(nm)= \\phi(n) \\phi(m)$ <br/>\n",
        "   **Demostración:**<br/>\n",
        "   $\\phi(nm) = |\\{ a \\in \\mathbb{Z^+} \\ ; \\ a<nm \\ \\wedge mcd(nm, a)= 1 \\}|$ <br/>\n",
        "   $mcd(nm, a) = 1 \\leftrightarrow mcd(n,a) = 1 \\ \\wedge \\ mcd(m,a) =1 $ <br/>\n",
        "   $\\phi(nm) = |\\{ a \\in \\mathbb{Z^+} \\ ; \\ a<nm \\ \\wedge mcd(n, a)= 1 \\ \\wedge \\ mcd(m,a) =1 \\}$\n",
        "   <br/>\n",
        "   Se pueden organizar los elementos de tal manera que:\n",
        "   <br/>\n",
        "   <br/>\n",
        "   <img src=\"https://drive.google.com/uc?id=1HB6wjqeDiBH9HVkb8AQAdLARbth1bxwf\"/>\n",
        "   <br/>\n",
        "   <br/>\n",
        "   Los anteriores numeros son de la forma $qm+r$ para cierto $q,r \\ \\in \\mathbb{Z}$\n",
        "   <br/>\n",
        "   Decimos entonces que se tiene $$ mcd(qm+r, m)= mcd(r,m)$$ <br/>\n",
        "   Luego, nos preguntamos cuantas columnas hay con primos entre sí con $m$ y esto en efecto es $\\phi(m)$. <br/>\n",
        "   También, nos preguntamos dentro de una columna cuantos numeros son primos entre sí con $n$, en efecto habrán $\\phi(n)$ <br/>\n",
        "   Por lo tanto queda demostrado que $\\ \\phi(nm) =\\phi(n) \\phi(m) $ <br/>\n",
        "2. Por definicion si $n$ es primo, entonces $\\phi (n) = n-1$\n",
        "\n"
      ]
    },
    {
      "cell_type": "markdown",
      "metadata": {
        "id": "Q_RWnYszQ_B9",
        "colab_type": "text"
      },
      "source": [
        "2. Alice escoge una clave de cifrado $e$ tal que $$ mcd(e, \\phi(n))=1$$"
      ]
    },
    {
      "cell_type": "markdown",
      "metadata": {
        "id": "cXYtnUfFRWm9",
        "colab_type": "text"
      },
      "source": [
        "3. Alice calcula $d$ (como parte de su clave privada) con la propiedad que: $$ed \\equiv 1 \\ mod (\\phi(n)) $$"
      ]
    },
    {
      "cell_type": "markdown",
      "metadata": {
        "id": "YJZxTFPySHUB",
        "colab_type": "text"
      },
      "source": [
        "4. La clave publica de Alice será $(e,n)$ y la clave privada, la cual no compartirá será $(d,n)$"
      ]
    },
    {
      "cell_type": "markdown",
      "metadata": {
        "id": "Y3BYof-zTRL2",
        "colab_type": "text"
      },
      "source": [
        "#### Cifrado\n",
        "1. Bob convierte el mensaje $M$ en un numero entero $P$ menor que $n$ mediante un protocolo acordado garantizando siempre que $P$ y $n$ sean primos entre sí"
      ]
    },
    {
      "cell_type": "markdown",
      "metadata": {
        "id": "MnblQIY1T3P5",
        "colab_type": "text"
      },
      "source": [
        "2. Bob aplica la transformación $$ C \\equiv P^e (\\ mod \\ n\\ )$$"
      ]
    },
    {
      "cell_type": "markdown",
      "metadata": {
        "id": "g7XGpNVPUjDs",
        "colab_type": "text"
      },
      "source": [
        "3. Bob envia $C$ a Alice"
      ]
    },
    {
      "cell_type": "markdown",
      "metadata": {
        "id": "Bcyg6LxnUzru",
        "colab_type": "text"
      },
      "source": [
        "#### Descifrado\n",
        "1. Alice recibe $C$ de parte de Bob, y calcula: $$M \\equiv C^d (\\ mod \\ n\\ )$$\n",
        "\n",
        "  Lo anterior funciona ya que $C^d \\equiv (P^e)^d = P^{ed} = P^{k\\phi(n)+1} = P(P^{\\phi(n)})^k \\equiv P (\\ mod \\ n\\ )$. <br/>\n",
        "  Ya que el según Teorema de Euler: $P^{\\phi(n)} \\equiv 1 (\\ mod \\ n\\ )$ cuando $mcd (P,n) =1$ <br/><br/>\n",
        "  **Teorema de Euler**\n",
        "> Si $a$ y $n$ son enteros primos entre sí, entonces $a^{\\phi(n)} \\equiv 1 (\\ mod \\ n\\ )$\n",
        "\n",
        "  **Demostración:** <br/>\n",
        "  Sea $P = \\{ x \\in \\mathbb{Z^+}; \\ x<n \\ \\wedge \\ mcd(x,n)=1 \\}$ <br/>\n",
        "  Sea $Q = \\{ y \\in \\mathbb{Z^+}, x \\in P; \\  y = a \\cdot x \\}$ <br/><br/>\n",
        "  Los elementos del conjunto $Q$ son congruentes a los del conjunto $P$ en diferente orden.<br/>\n",
        "  Luego, sea $u$ el producto de los elementos de $P$ y sea $v$ el producto de los elementos de $Q$.<br/>\n",
        "  Los numeros $v$ y $u$ son congruentes dado que sus factores lo son: $$v \\equiv u (\\ mod \\ n\\ )$$<br/>\n",
        "  Luego se tiene que $v = u \\cdot a^{\\phi(n)}$ <br/>\n",
        "  Asi cancelamos el factor $u$ en la congruencia $$v \\equiv u (\\ mod \\ n\\ ) \\rightarrow u \\cdot a^{\\phi(n)}  \\equiv u (\\ mod \\ n\\ ) $$<br/>\n",
        "  Al final concluimos que $$a^{\\phi(n)} \\equiv 1 (\\ mod \\ n\\ )$$\n"
      ]
    },
    {
      "cell_type": "markdown",
      "metadata": {
        "id": "n-BJVPfOlJMs",
        "colab_type": "text"
      },
      "source": [
        "## **Ejemplo del algoritmo**\n",
        "3. Se debe incluir un ejemplo numérico sencillo que aclare el funcionamiento del algoritmo.\n",
        "\n",
        "  Vamos a retomar los pasos descritos anteriormente, para ello Bob quiere enviarle un mensaje a Alice, en principio este ejemplo se hace con valores numéricos sencillos con el ánimo de explicar el funcionamiento y que los cálculos no se tornen tediosos.\n"
      ]
    },
    {
      "cell_type": "markdown",
      "metadata": {
        "id": "HhdjB5XnxxEr",
        "colab_type": "text"
      },
      "source": [
        "  >> **Previo al cifrado**\n",
        "\n",
        "  >> Definimos $p$ y $q$ (numeros primos) como : <br/>\n",
        "    $p= 47$ , $q=61$\n",
        "\n",
        "  >> Definimos $n$ como el producto entre $p$ y $q$, en efecto: <br/>\n",
        "    $n=2867$ <br/>\n",
        "    También calculamos $\\phi(n)$: <br/>\n",
        "    $\\phi(n)= 2760 $\n",
        "\n",
        "  >> Luego, elegimos $e$ tal que $mcd(e,\\phi(n)) =1 $ <br/>\n",
        "    En este caso, escogemos $e$= 7 \n",
        "\n",
        "  >> Calculamos $d$ con la propiedad $ed \\equiv 1 \\ mod (\\phi(n)) $: <br/>\n",
        "    Para ello, nos vamos a apoyar de un pequeño codigo que verifica esta condicion y nos da el resultado de $d$:\n"
      ]
    },
    {
      "cell_type": "code",
      "metadata": {
        "id": "e6EC3QAQp1DP",
        "colab_type": "code",
        "outputId": "8d4ffe82-80b3-4bf0-fd44-2c54700a4138",
        "colab": {
          "base_uri": "https://localhost:8080/",
          "height": 34
        }
      },
      "source": [
        "#Obtenemos d, para el ejemplo e=7, phi_n= 2760\n",
        "def get_d_key(e, phi_n ):\n",
        "     c = 1\n",
        "     while (c % e > 0):\n",
        "      c += phi_n\n",
        "     return c // e\n",
        "print(\"La clave de desciframiento d es: {}\".format(str(get_d_key(7, 2760)))) \n"
      ],
      "execution_count": 0,
      "outputs": [
        {
          "output_type": "stream",
          "text": [
            "La clave de desciframiento d es: 1183\n"
          ],
          "name": "stdout"
        }
      ]
    },
    {
      "cell_type": "markdown",
      "metadata": {
        "id": "cP_7Fih7qfuz",
        "colab_type": "text"
      },
      "source": [
        "\n",
        ">> Obtenemos así $d= 1183$\n",
        "\n",
        ">> Así la clave publica de Alice es $(7, 2867)$ la privada será $(1183, 2867)$<br/>\n",
        "\n",
        "> Para el siguiente paso, necesitamos convertir el mensaje $M$ a un equivalente numérico para eso vamos a seguir el siguiente esquema\n",
        "\n",
        "<img src=\"https://drive.google.com/uc?id=1mCiLouHSxAZXPfjqMWddJ9gj2b4fSAP0\"/>\n",
        "\n",
        ">Para este ejemplo nuestro mensaje será: *UNAL* <br/>\n",
        "Aplicando la transformacion tenemos el mensaje numérico: \n",
        "\n",
        "        2113 0011\n",
        "\n",
        ">> **Cifrado** <br/>\n",
        "  Aplicamos la transformacion $ C \\equiv P^e (\\ mod \\ n\\ )$ <br/>\n",
        "  Luego de hacer los cálculos vemos que el mensaje cifrado es: \n",
        "\n",
        "            0859 0172\n",
        "        \n",
        ">> Finalmente, enviamos el mensaje.\n",
        "\n"
      ]
    },
    {
      "cell_type": "markdown",
      "metadata": {
        "id": "zQN-4NGAyYXh",
        "colab_type": "text"
      },
      "source": [
        ">> **Descifrado** <br/>\n",
        ">> Calculamos $M \\equiv C^d (\\ mod \\ n\\ )$ <br/> \n",
        "  Después de hacer los cálculos correspondientes obtenemos:\n",
        "\n",
        "            2113 0011\n",
        ">> Que corresponde al mensaje que Bob había enviado.\n"
      ]
    },
    {
      "cell_type": "markdown",
      "metadata": {
        "id": "h8hl1HUDjDNs",
        "colab_type": "text"
      },
      "source": [
        "## **Implementación del algoritmo**\n",
        "El algoritmo debe implementarse en lenguaje pyhton (sin excepción). La sección de implementación debe incluir un conjunto de ejemplos del uso del algoritmo.\n"
      ]
    },
    {
      "cell_type": "markdown",
      "metadata": {
        "id": "cqmVxsWiy_Xr",
        "colab_type": "text"
      },
      "source": [
        "\n",
        "---\n",
        "A continuacion propongo una implementacion del algoritmo RSA en `python`:\n",
        "\n",
        "---\n",
        "\n",
        "\n"
      ]
    },
    {
      "cell_type": "markdown",
      "metadata": {
        "id": "R63vmyCUwxqg",
        "colab_type": "text"
      },
      "source": [
        "La clase `Receptor` permite inicializar el nodo receptor, calcular su clave pública y asimismo los parámetros de su clave privada. Ademas también se incluye la función de desencriptación del mensaje."
      ]
    },
    {
      "cell_type": "code",
      "metadata": {
        "id": "d1Lpf637kgaB",
        "colab_type": "code",
        "colab": {}
      },
      "source": [
        "# Clase receptor \n",
        "class Receptor:\n",
        "\n",
        "  def __init__(self, p, q):\n",
        "    self.init_receptor(p, q )\n",
        "\n",
        "  #Algoritmo de Euclides para el mcd\n",
        "  def get_gcd(self, a, b):\n",
        "    res_0  = a % b \n",
        "    if(res_0 == 0): return 0\n",
        "    res_1 =  b % res_0 \n",
        "    if(res_1 ==0 ): return 0\n",
        "    res_2 = res_0 % res_1 \n",
        "    temp_1 = res_1\n",
        "    temp_2 = res_2\n",
        "    temp=-1\n",
        "    while(temp_2>0):\n",
        "      temp = temp_1 % temp_2  \n",
        "      temp_1= temp_2 \n",
        "      temp_2= temp \n",
        "    return (temp_1)\n",
        "\n",
        "  # Funcion que obtiene la llave d \n",
        "  def get_d_key(self, a, n ):\n",
        "     c = 1\n",
        "     while (c % a > 0):\n",
        "      c += n\n",
        "     return c // a\n",
        "\n",
        "  # Inicializa el receptor, calculando la clave publica y la llave d.\n",
        "  def init_receptor(self, p, q):\n",
        "    self.n = p*q\n",
        "    self.phi_n= (p-1)*(q-1)\n",
        "    e = 0\n",
        "    for i in range (15, self.phi_n):\n",
        "      e= self.get_gcd(self.phi_n,i)\n",
        "      if( e ==1 ):\n",
        "          self.e= i\n",
        "          break\n",
        "    self.d = self.get_d_key(self.e, self.phi_n)\n",
        "\n",
        "  # Funcion de desencriptacion \n",
        "  def decrypt(self, C):\n",
        "    return pow(C, self.d, self.n) #Usa exponenciacion cuadratica modular"
      ],
      "execution_count": 0,
      "outputs": []
    },
    {
      "cell_type": "markdown",
      "metadata": {
        "id": "z_18yx7mcvw8",
        "colab_type": "text"
      },
      "source": [
        "\n",
        "Luego, vamos a implementar la clase `Emisor` que permite configurar el emisor y encriptar el mensaje que quiere enviar.\n"
      ]
    },
    {
      "cell_type": "code",
      "metadata": {
        "id": "t3wF4TCoyJ45",
        "colab_type": "code",
        "colab": {}
      },
      "source": [
        "class Emisor:\n",
        "  def __init__ (self, e, n):\n",
        "    self.e =e\n",
        "    self.n =n \n",
        "  def encrypt(self, P):\n",
        "    return pow(P,self.e,self.n) #Usa exponenciacion cuadratica modular"
      ],
      "execution_count": 0,
      "outputs": []
    },
    {
      "cell_type": "markdown",
      "metadata": {
        "id": "XzrFA-Kji7YV",
        "colab_type": "text"
      },
      "source": [
        "## Ejemplos"
      ]
    },
    {
      "cell_type": "markdown",
      "metadata": {
        "id": "M7NWBGBDWg9P",
        "colab_type": "text"
      },
      "source": [
        "---\n",
        "\n",
        "En los siguientes ejemplos se considera el [Codigo ASCII ](https://elcodigoascii.com.ar/) como equivalente numerico de los mensajes. \n",
        "\n",
        "En nuestro primer ejemplo, encriptaremos el siguiente mensaje: \n",
        "<br/>\n",
        "*MATEMATICAS DISCRETAS*\n",
        "<br/>\n",
        "Asi, su equivalente en ASCII (en grupos de dos letras) sería\n",
        "\n",
        "```\n",
        "7765 8469 7765 8473 6765 8368 7383 6782 6984 6583\n",
        "```\n"
      ]
    },
    {
      "cell_type": "markdown",
      "metadata": {
        "id": "sF7lUwOCaDnD",
        "colab_type": "text"
      },
      "source": [
        "###**Ejemplo 1**\n",
        "\n"
      ]
    },
    {
      "cell_type": "markdown",
      "metadata": {
        "id": "cHSnDrBQ_OMS",
        "colab_type": "text"
      },
      "source": [
        "Inicializamos el receptor llamado `receptor` el cual comparte la informacion de clave pública, con valores de $p= 89 $, $q= 97 $, $n= 8633$"
      ]
    },
    {
      "cell_type": "code",
      "metadata": {
        "id": "aBDnL-mMZ2uo",
        "colab_type": "code",
        "outputId": "2f225e34-8935-401f-f964-0b3ed9002850",
        "colab": {
          "base_uri": "https://localhost:8080/",
          "height": 34
        }
      },
      "source": [
        "receptor = Receptor(89, 97) #Inicializamos un receptor R que comparte su clave publica\n",
        "print(\"La clave pública del receptor R es: ({},{})\".format(receptor.e, receptor.n))"
      ],
      "execution_count": 0,
      "outputs": [
        {
          "output_type": "stream",
          "text": [
            "La clave pública del receptor R es: (17,8633)\n"
          ],
          "name": "stdout"
        }
      ]
    },
    {
      "cell_type": "markdown",
      "metadata": {
        "id": "GygW37iscVER",
        "colab_type": "text"
      },
      "source": [
        "Compartimos la clave pública del receptor al emisor `emisor`, con la cual puede cifrar el mensaje que quiere enviar."
      ]
    },
    {
      "cell_type": "code",
      "metadata": {
        "id": "RdqWFMHdzenC",
        "colab_type": "code",
        "colab": {}
      },
      "source": [
        "emisor = Emisor(receptor.e, receptor.n)"
      ],
      "execution_count": 0,
      "outputs": []
    },
    {
      "cell_type": "markdown",
      "metadata": {
        "id": "Ps-pcr2hcipF",
        "colab_type": "text"
      },
      "source": [
        "Con lo anterior, le pedimos al emisor `emisor` que cifre el mensaje, y que nos devuelva el mensaje cifrado (que posteriormente enviaremos a R)"
      ]
    },
    {
      "cell_type": "code",
      "metadata": {
        "id": "-7RINQe2fTJA",
        "colab_type": "code",
        "outputId": "04c8345e-fb46-4f52-cb0e-cd5c0672a5e9",
        "colab": {
          "base_uri": "https://localhost:8080/",
          "height": 50
        }
      },
      "source": [
        "message_to_encrypt = [7765, 8469, 7765, 8463, 6765, 8368, 7383, 6782, 6984, 6583]  #Obtenemos la informacion que envia el emisor\n",
        "encrypted_message=[]  \n",
        "for message in message_to_encrypt:\n",
        "  encrypted_message.append(emisor.encrypt(message))\n",
        "print(\"Este es el mensaje encriptado: \")\n",
        "print(encrypted_message)"
      ],
      "execution_count": 0,
      "outputs": [
        {
          "output_type": "stream",
          "text": [
            "Este es el mensaje encriptado: \n",
            "[7164, 3074, 7164, 2531, 5430, 4425, 7563, 2126, 3492, 7292]\n"
          ],
          "name": "stdout"
        }
      ]
    },
    {
      "cell_type": "markdown",
      "metadata": {
        "id": "Bcw_Ruc9dH9h",
        "colab_type": "text"
      },
      "source": [
        "Posteriormente enviamos el mensaje al receptor R para que lo desencripte usando su clave privada. \n",
        "<br>\n",
        "Al final, vemos que el mensaje es efectivamente el que hemos enviado: *Matemáticas Discretas*"
      ]
    },
    {
      "cell_type": "code",
      "metadata": {
        "id": "a4xo7iNoci6X",
        "colab_type": "code",
        "outputId": "6ff36443-462b-4aaa-bedd-2ac1b3ab71a3",
        "colab": {
          "base_uri": "https://localhost:8080/",
          "height": 50
        }
      },
      "source": [
        "decrypted_message= []\n",
        "for message_encrypted in encrypted_message:\n",
        "  decrypted_message.append( receptor.decrypt(message_encrypted))\n",
        "print(\"Este es el mensaje desencriptado: \")\n",
        "print(decrypted_message)"
      ],
      "execution_count": 0,
      "outputs": [
        {
          "output_type": "stream",
          "text": [
            "Este es el mensaje desencriptado: \n",
            "[7765, 8469, 7765, 8463, 6765, 8368, 7383, 6782, 6984, 6583]\n"
          ],
          "name": "stdout"
        }
      ]
    },
    {
      "cell_type": "markdown",
      "metadata": {
        "colab_type": "text",
        "id": "Tjc7gJt479aO"
      },
      "source": [
        "###**Ejemplo 2**"
      ]
    },
    {
      "cell_type": "markdown",
      "metadata": {
        "id": "2_tQ9JeT8PtL",
        "colab_type": "text"
      },
      "source": [
        "A partir de este punto, generaremos primos aleatorios con el test de primalidad que vimos en la seccion: *Previo al cifrado*. <br/>\n",
        "\n",
        "Le pediremos al algoritmo que genere numeros primos aleatorios más grandes, e iremos incrementando las cifras en los siguientes ejemplos. \n"
      ]
    },
    {
      "cell_type": "markdown",
      "metadata": {
        "id": "MeskbT608vks",
        "colab_type": "text"
      },
      "source": [
        "Para este ejemplo queremos encriptar el siguiente mensaje (con las reglas ya vistas): *ALGORITMO RSA*\n",
        "\n",
        "    6576 7179 8273 8477 7982 8365"
      ]
    },
    {
      "cell_type": "code",
      "metadata": {
        "id": "ehGzlr-S-VUR",
        "colab_type": "code",
        "colab": {}
      },
      "source": [
        "# Generamos numeros aleatorios de 4 cifras\n",
        "p = get_prime(1000)\n",
        "q = get_prime(1234)"
      ],
      "execution_count": 0,
      "outputs": []
    },
    {
      "cell_type": "markdown",
      "metadata": {
        "colab_type": "text",
        "id": "SnjACKjs79aQ"
      },
      "source": [
        "Inicializamos el receptor llamado `receptor` el cual comparte la informacion de clave pública, con valores de $p$ y $q $ generados."
      ]
    },
    {
      "cell_type": "code",
      "metadata": {
        "colab_type": "code",
        "outputId": "7a71df37-21e9-424c-e594-0de3b214b1ce",
        "id": "YoAU8_1s79aQ",
        "colab": {
          "base_uri": "https://localhost:8080/",
          "height": 34
        }
      },
      "source": [
        "receptor = Receptor(p, q) #Inicializamos un receptor R que comparte su clave publica\n",
        "print(\"La clave pública del receptor R es: ({},{})\".format(receptor.e, receptor.n))"
      ],
      "execution_count": 0,
      "outputs": [
        {
          "output_type": "stream",
          "text": [
            "La clave pública del receptor R es: (17,3447163)\n"
          ],
          "name": "stdout"
        }
      ]
    },
    {
      "cell_type": "markdown",
      "metadata": {
        "colab_type": "text",
        "id": "xLo35cCf79aW"
      },
      "source": [
        "Compartimos la clave pública del receptor al emisor `emisor`, con la cual puede cifrar el mensaje que quiere enviar."
      ]
    },
    {
      "cell_type": "code",
      "metadata": {
        "colab_type": "code",
        "id": "eSHwZb8x79aX",
        "colab": {}
      },
      "source": [
        "emisor = Emisor(receptor.e, receptor.n)"
      ],
      "execution_count": 0,
      "outputs": []
    },
    {
      "cell_type": "markdown",
      "metadata": {
        "colab_type": "text",
        "id": "hUPLWSFh79aZ"
      },
      "source": [
        "Con lo anterior, le pedimos al emisor `emisor` que cifre el mensaje, y que nos devuelva el mensaje cifrado (que posteriormente enviaremos a R)"
      ]
    },
    {
      "cell_type": "code",
      "metadata": {
        "colab_type": "code",
        "outputId": "81eaf4eb-2c18-4ad6-c535-74e62344facf",
        "id": "d1ozkojw79aa",
        "colab": {
          "base_uri": "https://localhost:8080/",
          "height": 50
        }
      },
      "source": [
        "message_to_encrypt = [7765, 8469, 7765, 8463, 6765, 8368, 7383, 6782, 6984, 6583]  #Obtenemos la informacion que envia el emisor\n",
        "encrypted_message=[]  \n",
        "for message in message_to_encrypt:\n",
        "  encrypted_message.append(emisor.encrypt(message))\n",
        "print(\"Este es el mensaje encriptado: \")\n",
        "print(encrypted_message)"
      ],
      "execution_count": 0,
      "outputs": [
        {
          "output_type": "stream",
          "text": [
            "Este es el mensaje encriptado: \n",
            "[1295785, 1218521, 1295785, 1493066, 1706500, 1710384, 2131216, 427264, 2136521, 1359116]\n"
          ],
          "name": "stdout"
        }
      ]
    },
    {
      "cell_type": "markdown",
      "metadata": {
        "colab_type": "text",
        "id": "CuRFKEyi79ag"
      },
      "source": [
        "Posteriormente enviamos el mensaje al receptor R para que lo desencripte usando su clave privada. \n",
        "<br>\n",
        "Al final, vemos que el mensaje es efectivamente el que hemos enviado: *Matemáticas Discretas*"
      ]
    },
    {
      "cell_type": "code",
      "metadata": {
        "colab_type": "code",
        "outputId": "979c0e87-caa1-4295-9e8b-f5e7cc506afe",
        "id": "2eMxUcSn79ah",
        "colab": {
          "base_uri": "https://localhost:8080/",
          "height": 50
        }
      },
      "source": [
        "decrypted_message= []\n",
        "for message_encrypted in encrypted_message:\n",
        "  decrypted_message.append( receptor.decrypt(message_encrypted))\n",
        "print(\"Este es el mensaje desencriptado: \")\n",
        "print(decrypted_message)"
      ],
      "execution_count": 0,
      "outputs": [
        {
          "output_type": "stream",
          "text": [
            "Este es el mensaje desencriptado: \n",
            "[7765, 8469, 7765, 8463, 6765, 8368, 7383, 6782, 6984, 6583]\n"
          ],
          "name": "stdout"
        }
      ]
    },
    {
      "cell_type": "markdown",
      "metadata": {
        "colab_type": "text",
        "id": "G2TLaAm0AaDl"
      },
      "source": [
        "###**Ejemplo 3**"
      ]
    },
    {
      "cell_type": "markdown",
      "metadata": {
        "colab_type": "text",
        "id": "kX6iK_dTAaDn"
      },
      "source": [
        "Para este ejemplo queremos encriptar el siguiente mensaje (con las reglas ya vistas): \n",
        "> *Un hombre provisto de papel, lápiz y goma, y con sujeción a una disciplina estricta, es en efecto una máquina de Turing universal*\n",
        "\n",
        "Una gran frase de Alan Turing.\n",
        "\n",
        "    85110 32104 111109 98114 10132 112114 111118 105115 116111 32100 10132 11297 112101 10844 32108 195161 112105 12232 12132 103111 10997 4432 12132 99111 11032 115117 106101 99105 195179 11032 9732 117110 9732 100105 11599 105112 108105 11097 32101 115116 114105 99116 9744 32101 11532 101110 32101 102101 99116 11132 117110 9732 109195 161113 117105 11097 32100 10132 84117 114105 110103 32117 110105 118101 114115 97108\n"
      ]
    },
    {
      "cell_type": "code",
      "metadata": {
        "colab_type": "code",
        "id": "W_jvA44eAaDo",
        "colab": {}
      },
      "source": [
        "# Generamos numeros aleatorios de 9 cifras\n",
        "p = get_prime(100000000)\n",
        "q = get_prime(123456789)"
      ],
      "execution_count": 0,
      "outputs": []
    },
    {
      "cell_type": "markdown",
      "metadata": {
        "colab_type": "text",
        "id": "B9VkoEJpAaDr"
      },
      "source": [
        "Inicializamos el receptor llamado `receptor` el cual comparte la informacion de clave pública, con valores de $p$ y $q $ generados."
      ]
    },
    {
      "cell_type": "code",
      "metadata": {
        "colab_type": "code",
        "outputId": "5d6fc652-9ca3-4bb3-ebb5-227356080dc8",
        "id": "Lkgu8G64AaDr",
        "colab": {
          "base_uri": "https://localhost:8080/",
          "height": 34
        }
      },
      "source": [
        "receptor = Receptor(p, q) #Inicializamos un receptor R que comparte su clave publica\n",
        "print(\"La clave pública del receptor R es: ({},{})\".format(receptor.e, receptor.n))"
      ],
      "execution_count": 0,
      "outputs": [
        {
          "output_type": "stream",
          "text": [
            "La clave pública del receptor R es: (23,26821498133712209)\n"
          ],
          "name": "stdout"
        }
      ]
    },
    {
      "cell_type": "markdown",
      "metadata": {
        "colab_type": "text",
        "id": "LdjtZCUlAaDv"
      },
      "source": [
        "Compartimos la clave pública del receptor al emisor `emisor`, con la cual puede cifrar el mensaje que quiere enviar."
      ]
    },
    {
      "cell_type": "code",
      "metadata": {
        "colab_type": "code",
        "id": "wah5psTbAaDv",
        "colab": {}
      },
      "source": [
        "emisor = Emisor(receptor.e, receptor.n)"
      ],
      "execution_count": 0,
      "outputs": []
    },
    {
      "cell_type": "markdown",
      "metadata": {
        "colab_type": "text",
        "id": "qlPMDN6iAaDz"
      },
      "source": [
        "Con lo anterior, le pedimos al emisor `emisor` que cifre el mensaje, y que nos devuelva el mensaje cifrado (que posteriormente enviaremos a R)"
      ]
    },
    {
      "cell_type": "code",
      "metadata": {
        "colab_type": "code",
        "outputId": "56301b9e-0610-49a4-a8aa-52e4fafde0a5",
        "id": "NO_rHIa2AaDz",
        "colab": {
          "base_uri": "https://localhost:8080/",
          "height": 70
        }
      },
      "source": [
        "message_to_encrypt = [85110, 32104, 111109, 98114, 10132, 112114, 111118, \n",
        "                      105115, 116111, 32100, 10132, 11297, 112101, 10844, 32108,\n",
        "                      195161, 112105, 12232, 12132, 103111, 10997, 4432, 12132,\n",
        "                      99111, 11032, 115117, 106101, 99105, 195179, 11032, 9732,\n",
        "                      117110, 9732, 100105, 11599, 105112, 108105, 11097, 32101,\n",
        "                      115116, 114105, 99116, 9744, 32101, 11532, 101110, 32101,\n",
        "                      102101, 99116, 11132, 117110, 9732, 109195, 161113, 117105,\n",
        "                      11097, 32100, 10132, 84117, 114105, 110103, 32117, 110105,\n",
        "                      118101, 114115, 97108]\n",
        "#Obtenemos la informacion que envia el emisor\n",
        "encrypted_message=[]  \n",
        "for message in message_to_encrypt:\n",
        "  encrypted_message.append(emisor.encrypt(message))\n",
        "print(\"Este es el mensaje encriptado: \")\n",
        "print(encrypted_message)"
      ],
      "execution_count": 0,
      "outputs": [
        {
          "output_type": "stream",
          "text": [
            "Este es el mensaje encriptado: \n",
            "[5532485647077602, 24785113785478673, 20878629178507325, 20318147434924206, 17339841431785473, 4330874698266666, 1018515544965666, 4215149635318306, 1039598391495854, 19006712452659107, 17339841431785473, 20004841434577774, 860887740935743, 10324420587000223, 13051620192301000, 23945539579797579, 15093003054971839, 20854687271130672, 9229136722051410, 18138610040498656, 19433680682581510, 26160745253237248, 9229136722051410, 7862033585193373, 7890901913451938, 18155978251595174, 25730921063403841, 19261845409534157, 21831647416566879, 7890901913451938, 7529636785569122, 12728691359331635, 7529636785569122, 4548438873235465, 6212303089631946, 2955945919149282, 878118328006778, 6076208409941358, 23815526922121365, 4557260968729834, 16140707440925439, 24458613877332065, 14673265868958364, 23815526922121365, 20827199361078641, 8972139702122907, 23815526922121365, 12008277107761516, 24458613877332065, 4812685919445064, 12728691359331635, 7529636785569122, 432353061876008, 372627161333564, 13694479008755654, 6076208409941358, 19006712452659107, 17339841431785473, 1427177289778355, 16140707440925439, 1885810800276227, 10410382507608824, 23101938714273056, 14371627616286428, 19418383469333737, 13305455241969008]\n"
          ],
          "name": "stdout"
        }
      ]
    },
    {
      "cell_type": "markdown",
      "metadata": {
        "colab_type": "text",
        "id": "iTF3yVciAaD6"
      },
      "source": [
        "Posteriormente enviamos el mensaje al receptor R para que lo desencripte usando su clave privada. \n",
        "<br>\n",
        "Al final, vemos que el mensaje es efectivamente el que hemos enviado: *Matemáticas Discretas*"
      ]
    },
    {
      "cell_type": "code",
      "metadata": {
        "colab_type": "code",
        "outputId": "06513804-a577-458b-80fc-5957e0b73fe8",
        "id": "yQ7AF1xUAaD6",
        "colab": {
          "base_uri": "https://localhost:8080/",
          "height": 70
        }
      },
      "source": [
        "decrypted_message= []\n",
        "for message_encrypted in encrypted_message:\n",
        "  decrypted_message.append( receptor.decrypt(message_encrypted))\n",
        "print(\"Este es el mensaje desencriptado: \")\n",
        "print(decrypted_message)"
      ],
      "execution_count": 0,
      "outputs": [
        {
          "output_type": "stream",
          "text": [
            "Este es el mensaje desencriptado: \n",
            "[85110, 32104, 111109, 98114, 10132, 112114, 111118, 105115, 116111, 32100, 10132, 11297, 112101, 10844, 32108, 195161, 112105, 12232, 12132, 103111, 10997, 4432, 12132, 99111, 11032, 115117, 106101, 99105, 195179, 11032, 9732, 117110, 9732, 100105, 11599, 105112, 108105, 11097, 32101, 115116, 114105, 99116, 9744, 32101, 11532, 101110, 32101, 102101, 99116, 11132, 117110, 9732, 109195, 161113, 117105, 11097, 32100, 10132, 84117, 114105, 110103, 32117, 110105, 118101, 114115, 97108]\n"
          ],
          "name": "stdout"
        }
      ]
    }
  ]
}