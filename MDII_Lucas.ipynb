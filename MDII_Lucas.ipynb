{
  "nbformat": 4,
  "nbformat_minor": 0,
  "metadata": {
    "colab": {
      "name": "MDII_Lucas.ipynb",
      "provenance": [],
      "authorship_tag": "ABX9TyPRZ6Vzd2QxtSHDzL1O+b+G",
      "include_colab_link": true
    },
    "kernelspec": {
      "name": "python3",
      "display_name": "Python 3"
    }
  },
  "cells": [
    {
      "cell_type": "markdown",
      "metadata": {
        "id": "view-in-github",
        "colab_type": "text"
      },
      "source": [
        "<a href=\"https://colab.research.google.com/github/angegonzalez/DiscreteMath/blob/master/MDII_Lucas.ipynb\" target=\"_parent\"><img src=\"https://colab.research.google.com/assets/colab-badge.svg\" alt=\"Open In Colab\"/></a>"
      ]
    },
    {
      "cell_type": "markdown",
      "metadata": {
        "id": "eUsPcTI-tIwu",
        "colab_type": "text"
      },
      "source": [
        "Universidad Nacional de Colombia \n",
        "<br/>\n",
        "2020-I | **Matemáticas** **Discretas**\n",
        "<br/>\n",
        "*Por:* Angel Mateo González Bejarano\n"
      ]
    },
    {
      "cell_type": "markdown",
      "metadata": {
        "id": "DqE4Nn16r-n5",
        "colab_type": "text"
      },
      "source": [
        "\n",
        "* Los números de Lucas están relacionados con los números de Fibonacci, y están definidos por la siguiente secuencia $L_{n+2} = L_{n+1} + L_{n}$, $L_0=2$, $L_1=1$. Escriba un programa que imprima la siguiente información. El 18-th número de Lucas, el número de Lucas más cercano a 1000, y el primer número de Lucas más grande que 100.\n",
        "\n"
      ]
    },
    {
      "cell_type": "markdown",
      "metadata": {
        "id": "YZ4XWCBstTk4",
        "colab_type": "text"
      },
      "source": [
        "**Solución** <br>\n",
        "Para llegar a la respuesta de este ejercicio implementaremos un pequeño programa en python. Para hacer esto de una manera eficiente vamos a resolver la recurrencia lineal usando el polinomio característico de la misma."
      ]
    },
    {
      "cell_type": "markdown",
      "metadata": {
        "id": "GeS93YLztxYs",
        "colab_type": "text"
      },
      "source": [
        "Entonces, sea $L_{n}$ la secuencia de los numeros de Lucas, definidos por la siguiente recursión : <br>\n",
        "$L_{n} = L_{n-1} + L_{n-2}$, con $L_0= 2$ y $L_1=1$.\n",
        "<br>\n",
        "Usando el polinomio característico tenemos lo siguiente: <br>\n",
        "$x^2 - x -1 = 0$ <br>\n",
        "Cuyas soluciones son: $\\frac{1+ \\sqrt 5}{2}$ y $\\frac{1- \\sqrt 5}{2}$. <br>\n",
        "\n",
        "Luego, escribimos la recursión como: <br>\n",
        "$L_n$ = $\\alpha \\cdot  ( \\frac{1+ \\sqrt 5}{2} )^{n} + \\beta \\cdot  ( \\frac{1- \\sqrt 5}{2} )^{n} $. <br>\n",
        "Ahora sólo nos queda conocer los valores de $\\alpha$ y $\\beta$ y para ello usamos los valores iniciales de la recursión, a saber: $L_0$ y $L_1$. <br> <br>\n",
        "\n",
        "*Para $n = 0$* <br>\n",
        "$2 = \\alpha + \\beta \\Rightarrow \\alpha = 2 - \\beta$ <br><br>\n",
        "\n",
        "*Para $n = 1$* <br>\n",
        "$1 = (2-\\beta) ( \\frac{1+ \\sqrt 5}{2} ) + \\beta ( \\frac{1- \\sqrt 5}{2})$ <br>\n",
        "$1 = 1 + \\sqrt 5 - \\beta ( \\frac{1+ \\sqrt 5}{2} ) + \\beta (\\frac{1- \\sqrt 5}{2})$ <br>\n",
        "$- \\sqrt 5 = \\beta ( \\frac{1- \\sqrt 5}{2} - \\frac{1+ \\sqrt 5}{2} )$<br>\n",
        "<br>\n",
        "$ \\beta = 1$, $ \\alpha = 1 $ \n",
        "<br>\n",
        "Finalmente, $L_n$ = $ ( \\frac{1+ \\sqrt 5}{2} )^{n} + ( \\frac{1- \\sqrt 5}{2} )^{n}$\n"
      ]
    },
    {
      "cell_type": "markdown",
      "metadata": {
        "id": "yMQHOo-HxwKI",
        "colab_type": "text"
      },
      "source": [
        "Luego, aplicamos esta formula cerrada en nuestro programa en los tres casos solicitados"
      ]
    },
    {
      "cell_type": "code",
      "metadata": {
        "id": "5nsqGTWryqGr",
        "colab_type": "code",
        "colab": {}
      },
      "source": [
        "import math"
      ],
      "execution_count": null,
      "outputs": []
    },
    {
      "cell_type": "code",
      "metadata": {
        "id": "rAEv0mVEx4c_",
        "colab_type": "code",
        "colab": {
          "base_uri": "https://localhost:8080/",
          "height": 50
        },
        "outputId": "0b914c62-0aad-41e8-d35f-60c491dc1a29"
      },
      "source": [
        "# Caso 1: Lucas n-ésimo numero de Lucas (en especifico, el 18)\n",
        "def get_Lucas_n (n):\n",
        "  return  math.floor(((1+ math.sqrt(5))/2)**n + ( (1- math.sqrt(5))/2 )**n)\n",
        "\n",
        "n = int( input('Ingrese el n-esimo numero de Lucas a calcular: '))\n",
        "print('El {} numero de Lucas es: {} '.format(n, get_Lucas_n(n)))"
      ],
      "execution_count": null,
      "outputs": [
        {
          "output_type": "stream",
          "text": [
            "Ingrese el n-esimo numero de Lucas a calcular: 18\n",
            "El 18 numero de Lucas es: 5778 \n"
          ],
          "name": "stdout"
        }
      ]
    },
    {
      "cell_type": "code",
      "metadata": {
        "id": "KWTtdGei1VIk",
        "colab_type": "code",
        "colab": {
          "base_uri": "https://localhost:8080/",
          "height": 50
        },
        "outputId": "2819a059-6f80-41e9-8983-6a7dac525be6"
      },
      "source": [
        "def get_Lucas_about(x):\n",
        "  aux = 0\n",
        "  while( get_Lucas_n(aux+1) < x):\n",
        "      aux+=1\n",
        "  return aux\n",
        "\n",
        "myLucas1 = get_Lucas_about(1000);\n",
        "myLucas2 = get_Lucas_about(100)+1;\n",
        "print('El numero de Lucas mas cercano a 1000 es el Lucas numero {} y es : {}'.format( myLucas1, get_Lucas_n(myLucas1) ))\n",
        "print('El primer numero de Lucas mas grande que 100 es el Lucas numero {} y es : {}'.format( myLucas2, get_Lucas_n(myLucas2) ))"
      ],
      "execution_count": null,
      "outputs": [
        {
          "output_type": "stream",
          "text": [
            "El numero de Lucas mas cercano a 1000 es el Lucas numero 14 y es : 843\n",
            "El primer numero de Lucas mas grande que 100 es el Lucas numero 10 y es : 123\n"
          ],
          "name": "stdout"
        }
      ]
    }
  ]
}